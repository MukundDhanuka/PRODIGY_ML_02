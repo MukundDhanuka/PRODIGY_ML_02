{
 "cells": [
  {
   "cell_type": "code",
   "execution_count": 6,
   "id": "889fb792",
   "metadata": {
    "_cell_guid": "b1076dfc-b9ad-4769-8c92-a6c4dae69d19",
    "_uuid": "8f2839f25d086af736a60e9eeb907d3b93b6e0e5",
    "execution": {
     "iopub.execute_input": "2023-08-08T06:11:51.356119Z",
     "iopub.status.busy": "2023-08-08T06:11:51.355333Z",
     "iopub.status.idle": "2023-08-08T06:11:51.373464Z",
     "shell.execute_reply": "2023-08-08T06:11:51.372107Z"
    },
    "papermill": {
     "duration": 0.032218,
     "end_time": "2023-08-08T06:11:51.376235",
     "exception": false,
     "start_time": "2023-08-08T06:11:51.344017",
     "status": "completed"
    },
    "tags": []
   },
   "outputs": [],
   "source": [
    "# This Python 3 environment comes with many helpful analytics libraries installed\n",
    "# It is defined by the kaggle/python Docker image: https://github.com/kaggle/docker-python\n",
    "\n",
    "import pandas as pd\n",
    "import matplotlib.pyplot as plt\n",
    "import seaborn as sns\n",
    "import scipy.stats as stats\n",
    "import numpy as np # data processing, CSV file I/O (e.g. pd.read_csv)\n",
    "\n",
    "# Input data files are available in the read-only \"../input/\" directory\n",
    "# For example, running this (by clicking run or pressing Shift+Enter) will list all files under the input directory\n",
    "\n",
    "import os\n",
    "for dirname, _, filenames in os.walk('D:\\Internship\\Prodigy ML\\task 2'):\n",
    "    for filename in filenames:\n",
    "        print(os.path.join(dirname, filename))\n",
    "\n",
    "# You can write up to 20GB to the current directory (/kaggle/working/) that gets preserved as output when you create a version using \"Save & Run All\" \n",
    "# You can also write temporary files to /kaggle/temp/, but they won't be saved outside of the current session"
   ]
  },
  {
   "cell_type": "code",
   "execution_count": 7,
   "id": "aa5044f7",
   "metadata": {
    "execution": {
     "iopub.execute_input": "2023-08-08T06:11:51.411626Z",
     "iopub.status.busy": "2023-08-08T06:11:51.411208Z",
     "iopub.status.idle": "2023-08-08T06:11:51.451472Z",
     "shell.execute_reply": "2023-08-08T06:11:51.450252Z"
    },
    "papermill": {
     "duration": 0.052524,
     "end_time": "2023-08-08T06:11:51.453774",
     "exception": false,
     "start_time": "2023-08-08T06:11:51.401250",
     "status": "completed"
    },
    "tags": []
   },
   "outputs": [
    {
     "data": {
      "text/html": [
       "<div>\n",
       "<style scoped>\n",
       "    .dataframe tbody tr th:only-of-type {\n",
       "        vertical-align: middle;\n",
       "    }\n",
       "\n",
       "    .dataframe tbody tr th {\n",
       "        vertical-align: top;\n",
       "    }\n",
       "\n",
       "    .dataframe thead th {\n",
       "        text-align: right;\n",
       "    }\n",
       "</style>\n",
       "<table border=\"1\" class=\"dataframe\">\n",
       "  <thead>\n",
       "    <tr style=\"text-align: right;\">\n",
       "      <th></th>\n",
       "      <th>CustomerID</th>\n",
       "      <th>Gender</th>\n",
       "      <th>Age</th>\n",
       "      <th>Annual Income (k$)</th>\n",
       "      <th>Spending Score (1-100)</th>\n",
       "    </tr>\n",
       "  </thead>\n",
       "  <tbody>\n",
       "    <tr>\n",
       "      <th>0</th>\n",
       "      <td>1</td>\n",
       "      <td>Male</td>\n",
       "      <td>19</td>\n",
       "      <td>15</td>\n",
       "      <td>39</td>\n",
       "    </tr>\n",
       "    <tr>\n",
       "      <th>1</th>\n",
       "      <td>2</td>\n",
       "      <td>Male</td>\n",
       "      <td>21</td>\n",
       "      <td>15</td>\n",
       "      <td>81</td>\n",
       "    </tr>\n",
       "    <tr>\n",
       "      <th>2</th>\n",
       "      <td>3</td>\n",
       "      <td>Female</td>\n",
       "      <td>20</td>\n",
       "      <td>16</td>\n",
       "      <td>6</td>\n",
       "    </tr>\n",
       "    <tr>\n",
       "      <th>3</th>\n",
       "      <td>4</td>\n",
       "      <td>Female</td>\n",
       "      <td>23</td>\n",
       "      <td>16</td>\n",
       "      <td>77</td>\n",
       "    </tr>\n",
       "    <tr>\n",
       "      <th>4</th>\n",
       "      <td>5</td>\n",
       "      <td>Female</td>\n",
       "      <td>31</td>\n",
       "      <td>17</td>\n",
       "      <td>40</td>\n",
       "    </tr>\n",
       "  </tbody>\n",
       "</table>\n",
       "</div>"
      ],
      "text/plain": [
       "   CustomerID  Gender  Age  Annual Income (k$)  Spending Score (1-100)\n",
       "0           1    Male   19                  15                      39\n",
       "1           2    Male   21                  15                      81\n",
       "2           3  Female   20                  16                       6\n",
       "3           4  Female   23                  16                      77\n",
       "4           5  Female   31                  17                      40"
      ]
     },
     "execution_count": 7,
     "metadata": {},
     "output_type": "execute_result"
    }
   ],
   "source": [
    "df=pd.read_csv(\"D:\\Internship\\Prodigy ML/task 2\\Mall_Customers.csv\")\n",
    "df.head()"
   ]
  },
  {
   "cell_type": "code",
   "execution_count": 8,
   "id": "4b9b7d96",
   "metadata": {
    "execution": {
     "iopub.execute_input": "2023-08-08T06:11:51.473387Z",
     "iopub.status.busy": "2023-08-08T06:11:51.472875Z",
     "iopub.status.idle": "2023-08-08T06:11:51.486455Z",
     "shell.execute_reply": "2023-08-08T06:11:51.484884Z"
    },
    "papermill": {
     "duration": 0.026359,
     "end_time": "2023-08-08T06:11:51.489019",
     "exception": false,
     "start_time": "2023-08-08T06:11:51.462660",
     "status": "completed"
    },
    "tags": []
   },
   "outputs": [
    {
     "data": {
      "text/plain": [
       "CustomerID                0\n",
       "Gender                    0\n",
       "Age                       0\n",
       "Annual Income (k$)        0\n",
       "Spending Score (1-100)    0\n",
       "dtype: int64"
      ]
     },
     "execution_count": 8,
     "metadata": {},
     "output_type": "execute_result"
    }
   ],
   "source": [
    "df.isnull().sum()\n"
   ]
  },
  {
   "cell_type": "code",
   "execution_count": 9,
   "id": "bb0564fe",
   "metadata": {
    "execution": {
     "iopub.execute_input": "2023-08-08T06:11:51.513341Z",
     "iopub.status.busy": "2023-08-08T06:11:51.511699Z",
     "iopub.status.idle": "2023-08-08T06:11:51.528211Z",
     "shell.execute_reply": "2023-08-08T06:11:51.527015Z"
    },
    "papermill": {
     "duration": 0.031744,
     "end_time": "2023-08-08T06:11:51.531671",
     "exception": false,
     "start_time": "2023-08-08T06:11:51.499927",
     "status": "completed"
    },
    "tags": []
   },
   "outputs": [
    {
     "data": {
      "text/plain": [
       "'duplicated:'"
      ]
     },
     "metadata": {},
     "output_type": "display_data"
    },
    {
     "data": {
      "text/plain": [
       "0"
      ]
     },
     "metadata": {},
     "output_type": "display_data"
    }
   ],
   "source": [
    "display(\"duplicated:\",df.duplicated().sum())"
   ]
  },
  {
   "cell_type": "code",
   "execution_count": 10,
   "id": "c44837d9",
   "metadata": {
    "execution": {
     "iopub.execute_input": "2023-08-08T06:11:51.558226Z",
     "iopub.status.busy": "2023-08-08T06:11:51.557378Z",
     "iopub.status.idle": "2023-08-08T06:11:51.566641Z",
     "shell.execute_reply": "2023-08-08T06:11:51.565437Z"
    },
    "papermill": {
     "duration": 0.02426,
     "end_time": "2023-08-08T06:11:51.568878",
     "exception": false,
     "start_time": "2023-08-08T06:11:51.544618",
     "status": "completed"
    },
    "tags": []
   },
   "outputs": [],
   "source": [
    "X= df.iloc[:, [3,4]].values"
   ]
  },
  {
   "cell_type": "code",
   "execution_count": 11,
   "id": "e07e8a8e",
   "metadata": {
    "execution": {
     "iopub.execute_input": "2023-08-08T06:11:51.593190Z",
     "iopub.status.busy": "2023-08-08T06:11:51.592440Z",
     "iopub.status.idle": "2023-08-08T06:11:53.335613Z",
     "shell.execute_reply": "2023-08-08T06:11:53.334330Z"
    },
    "papermill": {
     "duration": 1.756729,
     "end_time": "2023-08-08T06:11:53.338484",
     "exception": false,
     "start_time": "2023-08-08T06:11:51.581755",
     "status": "completed"
    },
    "tags": []
   },
   "outputs": [],
   "source": [
    "from sklearn.cluster import KMeans\n"
   ]
  },
  {
   "cell_type": "code",
   "execution_count": 12,
   "id": "c8f0adde",
   "metadata": {
    "execution": {
     "iopub.execute_input": "2023-08-08T06:11:53.359708Z",
     "iopub.status.busy": "2023-08-08T06:11:53.358713Z",
     "iopub.status.idle": "2023-08-08T06:11:53.597394Z",
     "shell.execute_reply": "2023-08-08T06:11:53.596358Z"
    },
    "papermill": {
     "duration": 0.252863,
     "end_time": "2023-08-08T06:11:53.600715",
     "exception": false,
     "start_time": "2023-08-08T06:11:53.347852",
     "status": "completed"
    },
    "tags": []
   },
   "outputs": [
    {
     "name": "stderr",
     "output_type": "stream",
     "text": [
      "c:\\Users\\MUKUND DHANUKA\\anaconda3\\Lib\\site-packages\\sklearn\\cluster\\_kmeans.py:870: FutureWarning: The default value of `n_init` will change from 10 to 'auto' in 1.4. Set the value of `n_init` explicitly to suppress the warning\n",
      "  warnings.warn(\n",
      "c:\\Users\\MUKUND DHANUKA\\anaconda3\\Lib\\site-packages\\sklearn\\cluster\\_kmeans.py:1382: UserWarning: KMeans is known to have a memory leak on Windows with MKL, when there are less chunks than available threads. You can avoid it by setting the environment variable OMP_NUM_THREADS=1.\n",
      "  warnings.warn(\n",
      "c:\\Users\\MUKUND DHANUKA\\anaconda3\\Lib\\site-packages\\sklearn\\cluster\\_kmeans.py:870: FutureWarning: The default value of `n_init` will change from 10 to 'auto' in 1.4. Set the value of `n_init` explicitly to suppress the warning\n",
      "  warnings.warn(\n",
      "c:\\Users\\MUKUND DHANUKA\\anaconda3\\Lib\\site-packages\\sklearn\\cluster\\_kmeans.py:1382: UserWarning: KMeans is known to have a memory leak on Windows with MKL, when there are less chunks than available threads. You can avoid it by setting the environment variable OMP_NUM_THREADS=1.\n",
      "  warnings.warn(\n",
      "c:\\Users\\MUKUND DHANUKA\\anaconda3\\Lib\\site-packages\\sklearn\\cluster\\_kmeans.py:870: FutureWarning: The default value of `n_init` will change from 10 to 'auto' in 1.4. Set the value of `n_init` explicitly to suppress the warning\n",
      "  warnings.warn(\n",
      "c:\\Users\\MUKUND DHANUKA\\anaconda3\\Lib\\site-packages\\sklearn\\cluster\\_kmeans.py:1382: UserWarning: KMeans is known to have a memory leak on Windows with MKL, when there are less chunks than available threads. You can avoid it by setting the environment variable OMP_NUM_THREADS=1.\n",
      "  warnings.warn(\n",
      "c:\\Users\\MUKUND DHANUKA\\anaconda3\\Lib\\site-packages\\sklearn\\cluster\\_kmeans.py:870: FutureWarning: The default value of `n_init` will change from 10 to 'auto' in 1.4. Set the value of `n_init` explicitly to suppress the warning\n",
      "  warnings.warn(\n",
      "c:\\Users\\MUKUND DHANUKA\\anaconda3\\Lib\\site-packages\\sklearn\\cluster\\_kmeans.py:1382: UserWarning: KMeans is known to have a memory leak on Windows with MKL, when there are less chunks than available threads. You can avoid it by setting the environment variable OMP_NUM_THREADS=1.\n",
      "  warnings.warn(\n",
      "c:\\Users\\MUKUND DHANUKA\\anaconda3\\Lib\\site-packages\\sklearn\\cluster\\_kmeans.py:870: FutureWarning: The default value of `n_init` will change from 10 to 'auto' in 1.4. Set the value of `n_init` explicitly to suppress the warning\n",
      "  warnings.warn(\n",
      "c:\\Users\\MUKUND DHANUKA\\anaconda3\\Lib\\site-packages\\sklearn\\cluster\\_kmeans.py:1382: UserWarning: KMeans is known to have a memory leak on Windows with MKL, when there are less chunks than available threads. You can avoid it by setting the environment variable OMP_NUM_THREADS=1.\n",
      "  warnings.warn(\n",
      "c:\\Users\\MUKUND DHANUKA\\anaconda3\\Lib\\site-packages\\sklearn\\cluster\\_kmeans.py:870: FutureWarning: The default value of `n_init` will change from 10 to 'auto' in 1.4. Set the value of `n_init` explicitly to suppress the warning\n",
      "  warnings.warn(\n",
      "c:\\Users\\MUKUND DHANUKA\\anaconda3\\Lib\\site-packages\\sklearn\\cluster\\_kmeans.py:1382: UserWarning: KMeans is known to have a memory leak on Windows with MKL, when there are less chunks than available threads. You can avoid it by setting the environment variable OMP_NUM_THREADS=1.\n",
      "  warnings.warn(\n",
      "c:\\Users\\MUKUND DHANUKA\\anaconda3\\Lib\\site-packages\\sklearn\\cluster\\_kmeans.py:870: FutureWarning: The default value of `n_init` will change from 10 to 'auto' in 1.4. Set the value of `n_init` explicitly to suppress the warning\n",
      "  warnings.warn(\n",
      "c:\\Users\\MUKUND DHANUKA\\anaconda3\\Lib\\site-packages\\sklearn\\cluster\\_kmeans.py:1382: UserWarning: KMeans is known to have a memory leak on Windows with MKL, when there are less chunks than available threads. You can avoid it by setting the environment variable OMP_NUM_THREADS=1.\n",
      "  warnings.warn(\n",
      "c:\\Users\\MUKUND DHANUKA\\anaconda3\\Lib\\site-packages\\sklearn\\cluster\\_kmeans.py:870: FutureWarning: The default value of `n_init` will change from 10 to 'auto' in 1.4. Set the value of `n_init` explicitly to suppress the warning\n",
      "  warnings.warn(\n",
      "c:\\Users\\MUKUND DHANUKA\\anaconda3\\Lib\\site-packages\\sklearn\\cluster\\_kmeans.py:1382: UserWarning: KMeans is known to have a memory leak on Windows with MKL, when there are less chunks than available threads. You can avoid it by setting the environment variable OMP_NUM_THREADS=1.\n",
      "  warnings.warn(\n",
      "c:\\Users\\MUKUND DHANUKA\\anaconda3\\Lib\\site-packages\\sklearn\\cluster\\_kmeans.py:870: FutureWarning: The default value of `n_init` will change from 10 to 'auto' in 1.4. Set the value of `n_init` explicitly to suppress the warning\n",
      "  warnings.warn(\n",
      "c:\\Users\\MUKUND DHANUKA\\anaconda3\\Lib\\site-packages\\sklearn\\cluster\\_kmeans.py:1382: UserWarning: KMeans is known to have a memory leak on Windows with MKL, when there are less chunks than available threads. You can avoid it by setting the environment variable OMP_NUM_THREADS=1.\n",
      "  warnings.warn(\n",
      "c:\\Users\\MUKUND DHANUKA\\anaconda3\\Lib\\site-packages\\sklearn\\cluster\\_kmeans.py:870: FutureWarning: The default value of `n_init` will change from 10 to 'auto' in 1.4. Set the value of `n_init` explicitly to suppress the warning\n",
      "  warnings.warn(\n",
      "c:\\Users\\MUKUND DHANUKA\\anaconda3\\Lib\\site-packages\\sklearn\\cluster\\_kmeans.py:1382: UserWarning: KMeans is known to have a memory leak on Windows with MKL, when there are less chunks than available threads. You can avoid it by setting the environment variable OMP_NUM_THREADS=1.\n",
      "  warnings.warn(\n"
     ]
    }
   ],
   "source": [
    "wcss = []\n",
    "\n",
    "for i in range(1,11):\n",
    "    km = KMeans(n_clusters=i)\n",
    "    km.fit_predict(X)\n",
    "    wcss.append(km.inertia_)"
   ]
  },
  {
   "cell_type": "code",
   "execution_count": 13,
   "id": "4eb0bba8",
   "metadata": {
    "execution": {
     "iopub.execute_input": "2023-08-08T06:11:53.622004Z",
     "iopub.status.busy": "2023-08-08T06:11:53.620921Z",
     "iopub.status.idle": "2023-08-08T06:11:53.880619Z",
     "shell.execute_reply": "2023-08-08T06:11:53.878889Z"
    },
    "papermill": {
     "duration": 0.272894,
     "end_time": "2023-08-08T06:11:53.883108",
     "exception": false,
     "start_time": "2023-08-08T06:11:53.610214",
     "status": "completed"
    },
    "tags": []
   },
   "outputs": [
    {
     "data": {
      "text/plain": [
       "[<matplotlib.lines.Line2D at 0x1e1d636bcd0>]"
      ]
     },
     "execution_count": 13,
     "metadata": {},
     "output_type": "execute_result"
    },
    {
     "data": {
      "image/png": "[encoded data removed]",
      "text/plain": [
       "<Figure size 640x480 with 1 Axes>"
      ]
     },
     "metadata": {},
     "output_type": "display_data"
    }
   ],
   "source": [
    "import matplotlib.pyplot as plt\n",
    "plt.plot(range(1,11),wcss)\n"
   ]
  },
  {
   "cell_type": "code",
   "execution_count": 14,
   "id": "d5033796",
   "metadata": {
    "execution": {
     "iopub.execute_input": "2023-08-08T06:11:53.905310Z",
     "iopub.status.busy": "2023-08-08T06:11:53.904286Z",
     "iopub.status.idle": "2023-08-08T06:11:53.931312Z",
     "shell.execute_reply": "2023-08-08T06:11:53.930322Z"
    },
    "papermill": {
     "duration": 0.040923,
     "end_time": "2023-08-08T06:11:53.933540",
     "exception": false,
     "start_time": "2023-08-08T06:11:53.892617",
     "status": "completed"
    },
    "tags": []
   },
   "outputs": [
    {
     "name": "stderr",
     "output_type": "stream",
     "text": [
      "c:\\Users\\MUKUND DHANUKA\\anaconda3\\Lib\\site-packages\\sklearn\\cluster\\_kmeans.py:870: FutureWarning: The default value of `n_init` will change from 10 to 'auto' in 1.4. Set the value of `n_init` explicitly to suppress the warning\n",
      "  warnings.warn(\n",
      "c:\\Users\\MUKUND DHANUKA\\anaconda3\\Lib\\site-packages\\sklearn\\cluster\\_kmeans.py:1382: UserWarning: KMeans is known to have a memory leak on Windows with MKL, when there are less chunks than available threads. You can avoid it by setting the environment variable OMP_NUM_THREADS=1.\n",
      "  warnings.warn(\n"
     ]
    }
   ],
   "source": [
    "km = KMeans(n_clusters=5)\n",
    "y_means = km.fit_predict(X)"
   ]
  },
  {
   "cell_type": "code",
   "execution_count": 15,
   "id": "936b4a74",
   "metadata": {
    "execution": {
     "iopub.execute_input": "2023-08-08T06:11:53.954437Z",
     "iopub.status.busy": "2023-08-08T06:11:53.954007Z",
     "iopub.status.idle": "2023-08-08T06:11:54.267312Z",
     "shell.execute_reply": "2023-08-08T06:11:54.265982Z"
    },
    "papermill": {
     "duration": 0.326459,
     "end_time": "2023-08-08T06:11:54.269556",
     "exception": false,
     "start_time": "2023-08-08T06:11:53.943097",
     "status": "completed"
    },
    "tags": []
   },
   "outputs": [
    {
     "data": {
      "image/png": "[encoded data removed]",
      "text/plain": [
       "<Figure size 640x480 with 1 Axes>"
      ]
     },
     "metadata": {},
     "output_type": "display_data"
    }
   ],
   "source": [
    "plt.scatter(X[y_means == 0,0],X[y_means == 0,1],color='blue')\n",
    "plt.scatter(X[y_means == 1,0],X[y_means == 1,1],color='red')\n",
    "plt.scatter(X[y_means == 2,0],X[y_means == 2,1],color='green')\n",
    "plt.scatter(X[y_means == 3,0],X[y_means == 3,1],color='yellow')\n",
    "plt.scatter(X[y_means == 4,0],X[y_means == 4,1],color='black')\n",
    "plt.title('Clusters of customers')\n",
    "plt.xlabel('Annual Income (k$)')\n",
    "plt.ylabel('Spending Score (1-100)')\n",
    "plt.show()\n"
   ]
  },
  {
   "cell_type": "code",
   "execution_count": 16,
   "id": "3fc86686",
   "metadata": {
    "execution": {
     "iopub.execute_input": "2023-08-08T06:11:54.292231Z",
     "iopub.status.busy": "2023-08-08T06:11:54.291441Z",
     "iopub.status.idle": "2023-08-08T06:11:54.298294Z",
     "shell.execute_reply": "2023-08-08T06:11:54.297252Z"
    },
    "papermill": {
     "duration": 0.020955,
     "end_time": "2023-08-08T06:11:54.300557",
     "exception": false,
     "start_time": "2023-08-08T06:11:54.279602",
     "status": "completed"
    },
    "tags": []
   },
   "outputs": [],
   "source": [
    "df[\"Target\"]=y_means"
   ]
  },
  {
   "cell_type": "code",
   "execution_count": 17,
   "id": "51b6b14b",
   "metadata": {
    "execution": {
     "iopub.execute_input": "2023-08-08T06:11:54.324488Z",
     "iopub.status.busy": "2023-08-08T06:11:54.323110Z",
     "iopub.status.idle": "2023-08-08T06:11:54.336143Z",
     "shell.execute_reply": "2023-08-08T06:11:54.334922Z"
    },
    "papermill": {
     "duration": 0.026993,
     "end_time": "2023-08-08T06:11:54.338300",
     "exception": false,
     "start_time": "2023-08-08T06:11:54.311307",
     "status": "completed"
    },
    "tags": []
   },
   "outputs": [
    {
     "data": {
      "text/html": [
       "<div>\n",
       "<style scoped>\n",
       "    .dataframe tbody tr th:only-of-type {\n",
       "        vertical-align: middle;\n",
       "    }\n",
       "\n",
       "    .dataframe tbody tr th {\n",
       "        vertical-align: top;\n",
       "    }\n",
       "\n",
       "    .dataframe thead th {\n",
       "        text-align: right;\n",
       "    }\n",
       "</style>\n",
       "<table border=\"1\" class=\"dataframe\">\n",
       "  <thead>\n",
       "    <tr style=\"text-align: right;\">\n",
       "      <th></th>\n",
       "      <th>CustomerID</th>\n",
       "      <th>Gender</th>\n",
       "      <th>Age</th>\n",
       "      <th>Annual Income (k$)</th>\n",
       "      <th>Spending Score (1-100)</th>\n",
       "      <th>Target</th>\n",
       "    </tr>\n",
       "  </thead>\n",
       "  <tbody>\n",
       "    <tr>\n",
       "      <th>0</th>\n",
       "      <td>1</td>\n",
       "      <td>Male</td>\n",
       "      <td>19</td>\n",
       "      <td>15</td>\n",
       "      <td>39</td>\n",
       "      <td>2</td>\n",
       "    </tr>\n",
       "    <tr>\n",
       "      <th>1</th>\n",
       "      <td>2</td>\n",
       "      <td>Male</td>\n",
       "      <td>21</td>\n",
       "      <td>15</td>\n",
       "      <td>81</td>\n",
       "      <td>4</td>\n",
       "    </tr>\n",
       "    <tr>\n",
       "      <th>2</th>\n",
       "      <td>3</td>\n",
       "      <td>Female</td>\n",
       "      <td>20</td>\n",
       "      <td>16</td>\n",
       "      <td>6</td>\n",
       "      <td>2</td>\n",
       "    </tr>\n",
       "    <tr>\n",
       "      <th>3</th>\n",
       "      <td>4</td>\n",
       "      <td>Female</td>\n",
       "      <td>23</td>\n",
       "      <td>16</td>\n",
       "      <td>77</td>\n",
       "      <td>4</td>\n",
       "    </tr>\n",
       "    <tr>\n",
       "      <th>4</th>\n",
       "      <td>5</td>\n",
       "      <td>Female</td>\n",
       "      <td>31</td>\n",
       "      <td>17</td>\n",
       "      <td>40</td>\n",
       "      <td>2</td>\n",
       "    </tr>\n",
       "  </tbody>\n",
       "</table>\n",
       "</div>"
      ],
      "text/plain": [
       "   CustomerID  Gender  Age  Annual Income (k$)  Spending Score (1-100)  Target\n",
       "0           1    Male   19                  15                      39       2\n",
       "1           2    Male   21                  15                      81       4\n",
       "2           3  Female   20                  16                       6       2\n",
       "3           4  Female   23                  16                      77       4\n",
       "4           5  Female   31                  17                      40       2"
      ]
     },
     "execution_count": 17,
     "metadata": {},
     "output_type": "execute_result"
    }
   ],
   "source": [
    "Clustered_df=df\n",
    "Clustered_df.head()"
   ]
  },
  {
   "cell_type": "markdown",
   "id": "36f4ff8e",
   "metadata": {
    "papermill": {
     "duration": 0.01,
     "end_time": "2023-08-08T06:11:54.358549",
     "exception": false,
     "start_time": "2023-08-08T06:11:54.348549",
     "status": "completed"
    },
    "tags": []
   },
   "source": [
    "## Now our data is ready for classification.\n",
    "\n",
    "\n",
    "\n",
    "\n"
   ]
  },
  {
   "cell_type": "code",
   "execution_count": 18,
   "id": "14c4b9e0",
   "metadata": {
    "execution": {
     "iopub.execute_input": "2023-08-08T06:11:54.380516Z",
     "iopub.status.busy": "2023-08-08T06:11:54.380050Z",
     "iopub.status.idle": "2023-08-08T06:11:54.386133Z",
     "shell.execute_reply": "2023-08-08T06:11:54.385049Z"
    },
    "papermill": {
     "duration": 0.019691,
     "end_time": "2023-08-08T06:11:54.388243",
     "exception": false,
     "start_time": "2023-08-08T06:11:54.368552",
     "status": "completed"
    },
    "tags": []
   },
   "outputs": [],
   "source": [
    "X=Clustered_df.iloc[:,1:5]\n",
    "y=Clustered_df.iloc[:,-1]\n"
   ]
  },
  {
   "cell_type": "code",
   "execution_count": 19,
   "id": "418f41b1",
   "metadata": {
    "execution": {
     "iopub.execute_input": "2023-08-08T06:11:54.411515Z",
     "iopub.status.busy": "2023-08-08T06:11:54.411053Z",
     "iopub.status.idle": "2023-08-08T06:11:54.424393Z",
     "shell.execute_reply": "2023-08-08T06:11:54.423206Z"
    },
    "papermill": {
     "duration": 0.028324,
     "end_time": "2023-08-08T06:11:54.426803",
     "exception": false,
     "start_time": "2023-08-08T06:11:54.398479",
     "status": "completed"
    },
    "tags": []
   },
   "outputs": [
    {
     "data": {
      "text/html": [
       "<div>\n",
       "<style scoped>\n",
       "    .dataframe tbody tr th:only-of-type {\n",
       "        vertical-align: middle;\n",
       "    }\n",
       "\n",
       "    .dataframe tbody tr th {\n",
       "        vertical-align: top;\n",
       "    }\n",
       "\n",
       "    .dataframe thead th {\n",
       "        text-align: right;\n",
       "    }\n",
       "</style>\n",
       "<table border=\"1\" class=\"dataframe\">\n",
       "  <thead>\n",
       "    <tr style=\"text-align: right;\">\n",
       "      <th></th>\n",
       "      <th>Gender</th>\n",
       "      <th>Age</th>\n",
       "      <th>Annual Income (k$)</th>\n",
       "      <th>Spending Score (1-100)</th>\n",
       "    </tr>\n",
       "  </thead>\n",
       "  <tbody>\n",
       "    <tr>\n",
       "      <th>0</th>\n",
       "      <td>Male</td>\n",
       "      <td>19</td>\n",
       "      <td>15</td>\n",
       "      <td>39</td>\n",
       "    </tr>\n",
       "    <tr>\n",
       "      <th>1</th>\n",
       "      <td>Male</td>\n",
       "      <td>21</td>\n",
       "      <td>15</td>\n",
       "      <td>81</td>\n",
       "    </tr>\n",
       "    <tr>\n",
       "      <th>2</th>\n",
       "      <td>Female</td>\n",
       "      <td>20</td>\n",
       "      <td>16</td>\n",
       "      <td>6</td>\n",
       "    </tr>\n",
       "    <tr>\n",
       "      <th>3</th>\n",
       "      <td>Female</td>\n",
       "      <td>23</td>\n",
       "      <td>16</td>\n",
       "      <td>77</td>\n",
       "    </tr>\n",
       "    <tr>\n",
       "      <th>4</th>\n",
       "      <td>Female</td>\n",
       "      <td>31</td>\n",
       "      <td>17</td>\n",
       "      <td>40</td>\n",
       "    </tr>\n",
       "  </tbody>\n",
       "</table>\n",
       "</div>"
      ],
      "text/plain": [
       "   Gender  Age  Annual Income (k$)  Spending Score (1-100)\n",
       "0    Male   19                  15                      39\n",
       "1    Male   21                  15                      81\n",
       "2  Female   20                  16                       6\n",
       "3  Female   23                  16                      77\n",
       "4  Female   31                  17                      40"
      ]
     },
     "execution_count": 19,
     "metadata": {},
     "output_type": "execute_result"
    }
   ],
   "source": [
    "X.head()"
   ]
  },
  {
   "cell_type": "code",
   "execution_count": 20,
   "id": "89998465",
   "metadata": {
    "execution": {
     "iopub.execute_input": "2023-08-08T06:11:54.451058Z",
     "iopub.status.busy": "2023-08-08T06:11:54.449696Z",
     "iopub.status.idle": "2023-08-08T06:11:54.458226Z",
     "shell.execute_reply": "2023-08-08T06:11:54.457089Z"
    },
    "papermill": {
     "duration": 0.022797,
     "end_time": "2023-08-08T06:11:54.460407",
     "exception": false,
     "start_time": "2023-08-08T06:11:54.437610",
     "status": "completed"
    },
    "tags": []
   },
   "outputs": [
    {
     "data": {
      "text/plain": [
       "0    2\n",
       "1    4\n",
       "2    2\n",
       "3    4\n",
       "4    2\n",
       "Name: Target, dtype: int32"
      ]
     },
     "execution_count": 20,
     "metadata": {},
     "output_type": "execute_result"
    }
   ],
   "source": [
    "y.head()"
   ]
  },
  {
   "cell_type": "code",
   "execution_count": 21,
   "id": "ea4b11e4",
   "metadata": {
    "execution": {
     "iopub.execute_input": "2023-08-08T06:11:54.484246Z",
     "iopub.status.busy": "2023-08-08T06:11:54.483742Z",
     "iopub.status.idle": "2023-08-08T06:11:54.488736Z",
     "shell.execute_reply": "2023-08-08T06:11:54.487848Z"
    },
    "papermill": {
     "duration": 0.019087,
     "end_time": "2023-08-08T06:11:54.490658",
     "exception": false,
     "start_time": "2023-08-08T06:11:54.471571",
     "status": "completed"
    },
    "tags": []
   },
   "outputs": [],
   "source": [
    "from sklearn.model_selection import train_test_split\n",
    "from sklearn.preprocessing import LabelEncoder, StandardScaler\n"
   ]
  },
  {
   "cell_type": "code",
   "execution_count": 22,
   "id": "6a1a25cc",
   "metadata": {
    "execution": {
     "iopub.execute_input": "2023-08-08T06:11:54.513698Z",
     "iopub.status.busy": "2023-08-08T06:11:54.513230Z",
     "iopub.status.idle": "2023-08-08T06:11:54.518880Z",
     "shell.execute_reply": "2023-08-08T06:11:54.518101Z"
    },
    "papermill": {
     "duration": 0.019357,
     "end_time": "2023-08-08T06:11:54.520731",
     "exception": false,
     "start_time": "2023-08-08T06:11:54.501374",
     "status": "completed"
    },
    "tags": []
   },
   "outputs": [],
   "source": [
    "le=LabelEncoder()\n",
    "X['Gender'] = le.fit_transform(X['Gender'])\n"
   ]
  },
  {
   "cell_type": "code",
   "execution_count": 23,
   "id": "2b23eb3f",
   "metadata": {
    "execution": {
     "iopub.execute_input": "2023-08-08T06:11:54.545406Z",
     "iopub.status.busy": "2023-08-08T06:11:54.544676Z",
     "iopub.status.idle": "2023-08-08T06:11:54.552624Z",
     "shell.execute_reply": "2023-08-08T06:11:54.551768Z"
    },
    "papermill": {
     "duration": 0.023074,
     "end_time": "2023-08-08T06:11:54.554541",
     "exception": false,
     "start_time": "2023-08-08T06:11:54.531467",
     "status": "completed"
    },
    "tags": []
   },
   "outputs": [],
   "source": [
    "X_train, X_test, y_train, y_test = train_test_split(X, y, test_size=0.2, random_state=42)\n"
   ]
  },
  {
   "cell_type": "code",
   "execution_count": 24,
   "id": "009798fa",
   "metadata": {
    "execution": {
     "iopub.execute_input": "2023-08-08T06:11:54.577593Z",
     "iopub.status.busy": "2023-08-08T06:11:54.577114Z",
     "iopub.status.idle": "2023-08-08T06:11:54.588246Z",
     "shell.execute_reply": "2023-08-08T06:11:54.587085Z"
    },
    "papermill": {
     "duration": 0.025268,
     "end_time": "2023-08-08T06:11:54.590563",
     "exception": false,
     "start_time": "2023-08-08T06:11:54.565295",
     "status": "completed"
    },
    "tags": []
   },
   "outputs": [],
   "source": [
    "sc=StandardScaler()\n",
    "X_train=sc.fit_transform(X_train)\n",
    "X_test=sc.transform(X_test)"
   ]
  },
  {
   "cell_type": "code",
   "execution_count": 25,
   "id": "8dc24c35",
   "metadata": {
    "execution": {
     "iopub.execute_input": "2023-08-08T06:11:54.614134Z",
     "iopub.status.busy": "2023-08-08T06:11:54.613660Z",
     "iopub.status.idle": "2023-08-08T06:11:54.737660Z",
     "shell.execute_reply": "2023-08-08T06:11:54.736677Z"
    },
    "papermill": {
     "duration": 0.138971,
     "end_time": "2023-08-08T06:11:54.740419",
     "exception": false,
     "start_time": "2023-08-08T06:11:54.601448",
     "status": "completed"
    },
    "tags": []
   },
   "outputs": [],
   "source": [
    "from sklearn.ensemble import GradientBoostingClassifier\n",
    "from sklearn.metrics import accuracy_score"
   ]
  },
  {
   "cell_type": "code",
   "execution_count": 26,
   "id": "235277b7",
   "metadata": {
    "execution": {
     "iopub.execute_input": "2023-08-08T06:11:54.763875Z",
     "iopub.status.busy": "2023-08-08T06:11:54.763423Z",
     "iopub.status.idle": "2023-08-08T06:11:54.768819Z",
     "shell.execute_reply": "2023-08-08T06:11:54.767676Z"
    },
    "papermill": {
     "duration": 0.019683,
     "end_time": "2023-08-08T06:11:54.771047",
     "exception": false,
     "start_time": "2023-08-08T06:11:54.751364",
     "status": "completed"
    },
    "tags": []
   },
   "outputs": [],
   "source": [
    "gbdt = GradientBoostingClassifier(n_estimators=50,random_state=2)"
   ]
  },
  {
   "cell_type": "code",
   "execution_count": 27,
   "id": "9f3110be",
   "metadata": {
    "execution": {
     "iopub.execute_input": "2023-08-08T06:11:54.794716Z",
     "iopub.status.busy": "2023-08-08T06:11:54.793893Z",
     "iopub.status.idle": "2023-08-08T06:11:55.051523Z",
     "shell.execute_reply": "2023-08-08T06:11:55.050426Z"
    },
    "papermill": {
     "duration": 0.272134,
     "end_time": "2023-08-08T06:11:55.054024",
     "exception": false,
     "start_time": "2023-08-08T06:11:54.781890",
     "status": "completed"
    },
    "tags": []
   },
   "outputs": [
    {
     "data": {
      "text/plain": [
       "0.975"
      ]
     },
     "execution_count": 27,
     "metadata": {},
     "output_type": "execute_result"
    }
   ],
   "source": [
    "gbdt.fit(X_train,y_train)\n",
    "y_pred=gbdt.predict(X_test)\n",
    "accuracy = accuracy_score(y_test, y_pred)\n",
    "accuracy"
   ]
  },
  {
   "cell_type": "code",
   "execution_count": 28,
   "id": "26e8aba2",
   "metadata": {
    "execution": {
     "iopub.execute_input": "2023-08-08T06:11:55.077946Z",
     "iopub.status.busy": "2023-08-08T06:11:55.077036Z",
     "iopub.status.idle": "2023-08-08T06:11:55.085694Z",
     "shell.execute_reply": "2023-08-08T06:11:55.084678Z"
    },
    "papermill": {
     "duration": 0.023167,
     "end_time": "2023-08-08T06:11:55.087939",
     "exception": false,
     "start_time": "2023-08-08T06:11:55.064772",
     "status": "completed"
    },
    "tags": []
   },
   "outputs": [
    {
     "data": {
      "text/plain": [
       "array([1, 4, 2, 3, 3, 1, 1, 3, 3, 1, 1, 3, 0, 1, 3, 0, 1, 3, 1, 1, 3, 2,\n",
       "       3, 1, 1, 1, 1, 1, 0, 1, 4, 2, 1, 1, 3, 1, 0, 0, 3, 1])"
      ]
     },
     "execution_count": 28,
     "metadata": {},
     "output_type": "execute_result"
    }
   ],
   "source": [
    "y_pred=gbdt.predict(X_test)\n",
    "y_pred"
   ]
  },
  {
   "cell_type": "code",
   "execution_count": 29,
   "id": "1bc90905",
   "metadata": {
    "execution": {
     "iopub.execute_input": "2023-08-08T06:11:55.111241Z",
     "iopub.status.busy": "2023-08-08T06:11:55.110753Z",
     "iopub.status.idle": "2023-08-08T06:11:55.123171Z",
     "shell.execute_reply": "2023-08-08T06:11:55.122295Z"
    },
    "papermill": {
     "duration": 0.026405,
     "end_time": "2023-08-08T06:11:55.125052",
     "exception": false,
     "start_time": "2023-08-08T06:11:55.098647",
     "status": "completed"
    },
    "tags": []
   },
   "outputs": [
    {
     "data": {
      "text/html": [
       "<div>\n",
       "<style scoped>\n",
       "    .dataframe tbody tr th:only-of-type {\n",
       "        vertical-align: middle;\n",
       "    }\n",
       "\n",
       "    .dataframe tbody tr th {\n",
       "        vertical-align: top;\n",
       "    }\n",
       "\n",
       "    .dataframe thead th {\n",
       "        text-align: right;\n",
       "    }\n",
       "</style>\n",
       "<table border=\"1\" class=\"dataframe\">\n",
       "  <thead>\n",
       "    <tr style=\"text-align: right;\">\n",
       "      <th></th>\n",
       "      <th>Original Value</th>\n",
       "      <th>Predicted Value</th>\n",
       "    </tr>\n",
       "  </thead>\n",
       "  <tbody>\n",
       "    <tr>\n",
       "      <th>95</th>\n",
       "      <td>1</td>\n",
       "      <td>1</td>\n",
       "    </tr>\n",
       "    <tr>\n",
       "      <th>15</th>\n",
       "      <td>4</td>\n",
       "      <td>4</td>\n",
       "    </tr>\n",
       "    <tr>\n",
       "      <th>30</th>\n",
       "      <td>2</td>\n",
       "      <td>2</td>\n",
       "    </tr>\n",
       "    <tr>\n",
       "      <th>158</th>\n",
       "      <td>3</td>\n",
       "      <td>3</td>\n",
       "    </tr>\n",
       "    <tr>\n",
       "      <th>128</th>\n",
       "      <td>3</td>\n",
       "      <td>3</td>\n",
       "    </tr>\n",
       "    <tr>\n",
       "      <th>115</th>\n",
       "      <td>1</td>\n",
       "      <td>1</td>\n",
       "    </tr>\n",
       "    <tr>\n",
       "      <th>69</th>\n",
       "      <td>1</td>\n",
       "      <td>1</td>\n",
       "    </tr>\n",
       "    <tr>\n",
       "      <th>170</th>\n",
       "      <td>3</td>\n",
       "      <td>3</td>\n",
       "    </tr>\n",
       "    <tr>\n",
       "      <th>174</th>\n",
       "      <td>3</td>\n",
       "      <td>3</td>\n",
       "    </tr>\n",
       "    <tr>\n",
       "      <th>45</th>\n",
       "      <td>4</td>\n",
       "      <td>1</td>\n",
       "    </tr>\n",
       "    <tr>\n",
       "      <th>66</th>\n",
       "      <td>1</td>\n",
       "      <td>1</td>\n",
       "    </tr>\n",
       "    <tr>\n",
       "      <th>182</th>\n",
       "      <td>3</td>\n",
       "      <td>3</td>\n",
       "    </tr>\n",
       "    <tr>\n",
       "      <th>165</th>\n",
       "      <td>0</td>\n",
       "      <td>0</td>\n",
       "    </tr>\n",
       "    <tr>\n",
       "      <th>78</th>\n",
       "      <td>1</td>\n",
       "      <td>1</td>\n",
       "    </tr>\n",
       "    <tr>\n",
       "      <th>186</th>\n",
       "      <td>3</td>\n",
       "      <td>3</td>\n",
       "    </tr>\n",
       "    <tr>\n",
       "      <th>177</th>\n",
       "      <td>0</td>\n",
       "      <td>0</td>\n",
       "    </tr>\n",
       "    <tr>\n",
       "      <th>56</th>\n",
       "      <td>1</td>\n",
       "      <td>1</td>\n",
       "    </tr>\n",
       "    <tr>\n",
       "      <th>152</th>\n",
       "      <td>3</td>\n",
       "      <td>3</td>\n",
       "    </tr>\n",
       "    <tr>\n",
       "      <th>82</th>\n",
       "      <td>1</td>\n",
       "      <td>1</td>\n",
       "    </tr>\n",
       "    <tr>\n",
       "      <th>68</th>\n",
       "      <td>1</td>\n",
       "      <td>1</td>\n",
       "    </tr>\n",
       "    <tr>\n",
       "      <th>124</th>\n",
       "      <td>3</td>\n",
       "      <td>3</td>\n",
       "    </tr>\n",
       "    <tr>\n",
       "      <th>16</th>\n",
       "      <td>2</td>\n",
       "      <td>2</td>\n",
       "    </tr>\n",
       "    <tr>\n",
       "      <th>148</th>\n",
       "      <td>3</td>\n",
       "      <td>3</td>\n",
       "    </tr>\n",
       "    <tr>\n",
       "      <th>93</th>\n",
       "      <td>1</td>\n",
       "      <td>1</td>\n",
       "    </tr>\n",
       "    <tr>\n",
       "      <th>65</th>\n",
       "      <td>1</td>\n",
       "      <td>1</td>\n",
       "    </tr>\n",
       "    <tr>\n",
       "      <th>60</th>\n",
       "      <td>1</td>\n",
       "      <td>1</td>\n",
       "    </tr>\n",
       "    <tr>\n",
       "      <th>84</th>\n",
       "      <td>1</td>\n",
       "      <td>1</td>\n",
       "    </tr>\n",
       "    <tr>\n",
       "      <th>67</th>\n",
       "      <td>1</td>\n",
       "      <td>1</td>\n",
       "    </tr>\n",
       "    <tr>\n",
       "      <th>125</th>\n",
       "      <td>0</td>\n",
       "      <td>0</td>\n",
       "    </tr>\n",
       "    <tr>\n",
       "      <th>132</th>\n",
       "      <td>1</td>\n",
       "      <td>1</td>\n",
       "    </tr>\n",
       "    <tr>\n",
       "      <th>9</th>\n",
       "      <td>4</td>\n",
       "      <td>4</td>\n",
       "    </tr>\n",
       "    <tr>\n",
       "      <th>18</th>\n",
       "      <td>2</td>\n",
       "      <td>2</td>\n",
       "    </tr>\n",
       "    <tr>\n",
       "      <th>55</th>\n",
       "      <td>1</td>\n",
       "      <td>1</td>\n",
       "    </tr>\n",
       "    <tr>\n",
       "      <th>75</th>\n",
       "      <td>1</td>\n",
       "      <td>1</td>\n",
       "    </tr>\n",
       "    <tr>\n",
       "      <th>150</th>\n",
       "      <td>3</td>\n",
       "      <td>3</td>\n",
       "    </tr>\n",
       "    <tr>\n",
       "      <th>104</th>\n",
       "      <td>1</td>\n",
       "      <td>1</td>\n",
       "    </tr>\n",
       "    <tr>\n",
       "      <th>135</th>\n",
       "      <td>0</td>\n",
       "      <td>0</td>\n",
       "    </tr>\n",
       "    <tr>\n",
       "      <th>137</th>\n",
       "      <td>0</td>\n",
       "      <td>0</td>\n",
       "    </tr>\n",
       "    <tr>\n",
       "      <th>164</th>\n",
       "      <td>3</td>\n",
       "      <td>3</td>\n",
       "    </tr>\n",
       "    <tr>\n",
       "      <th>76</th>\n",
       "      <td>1</td>\n",
       "      <td>1</td>\n",
       "    </tr>\n",
       "  </tbody>\n",
       "</table>\n",
       "</div>"
      ],
      "text/plain": [
       "     Original Value  Predicted Value\n",
       "95                1                1\n",
       "15                4                4\n",
       "30                2                2\n",
       "158               3                3\n",
       "128               3                3\n",
       "115               1                1\n",
       "69                1                1\n",
       "170               3                3\n",
       "174               3                3\n",
       "45                4                1\n",
       "66                1                1\n",
       "182               3                3\n",
       "165               0                0\n",
       "78                1                1\n",
       "186               3                3\n",
       "177               0                0\n",
       "56                1                1\n",
       "152               3                3\n",
       "82                1                1\n",
       "68                1                1\n",
       "124               3                3\n",
       "16                2                2\n",
       "148               3                3\n",
       "93                1                1\n",
       "65                1                1\n",
       "60                1                1\n",
       "84                1                1\n",
       "67                1                1\n",
       "125               0                0\n",
       "132               1                1\n",
       "9                 4                4\n",
       "18                2                2\n",
       "55                1                1\n",
       "75                1                1\n",
       "150               3                3\n",
       "104               1                1\n",
       "135               0                0\n",
       "137               0                0\n",
       "164               3                3\n",
       "76                1                1"
      ]
     },
     "metadata": {},
     "output_type": "display_data"
    }
   ],
   "source": [
    "prediction = pd.DataFrame({'Original Value': y_test, 'Predicted Value': y_pred})\n",
    "\n",
    "# Print the DataFrame\n",
    "display(prediction)"
   ]
  }
 ],
 "metadata": {
  "kernelspec": {
   "display_name": "Python 3",
   "language": "python",
   "name": "python3"
  },
  "language_info": {
   "codemirror_mode": {
    "name": "ipython",
    "version": 3
   },
   "file_extension": ".py",
   "mimetype": "text/x-python",
   "name": "python",
   "nbconvert_exporter": "python",
   "pygments_lexer": "ipython3",
   "version": "3.11.3"
  },
  "papermill": {
   "default_parameters": {},
   "duration": 14.807246,
   "end_time": "2023-08-08T06:11:56.460058",
   "environment_variables": {},
   "exception": null,
   "input_path": "__notebook__.ipynb",
   "output_path": "__notebook__.ipynb",
   "parameters": {},
   "start_time": "2023-08-08T06:11:41.652812",
   "version": "2.4.0"
  }
 },
 "nbformat": 4,
 "nbformat_minor": 5
}
